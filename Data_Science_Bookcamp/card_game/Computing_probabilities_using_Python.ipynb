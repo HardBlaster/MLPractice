{
 "cells": [
  {
   "cell_type": "markdown",
   "source": [
    "Problem 1: Analyzing a family with four children\n",
    "Suppose a family has four children. What is the probability that exactly two of the children are boys?"
   ],
   "metadata": {
    "collapsed": false,
    "pycharm": {
     "name": "#%% md\n"
    }
   }
  },
  {
   "cell_type": "code",
   "execution_count": 17,
   "outputs": [],
   "source": [
    "from utils import compute_probability\n",
    "\n",
    "from itertools import product\n",
    "from collections import defaultdict"
   ],
   "metadata": {
    "collapsed": false,
    "pycharm": {
     "name": "#%%\n"
    }
   }
  },
  {
   "cell_type": "code",
   "execution_count": 10,
   "outputs": [],
   "source": [
    "possible_genders = ['Boy', 'Girl']\n",
    "boys_count = 2\n",
    "children_count = 4\n",
    "sample_space = set(product(possible_genders, repeat=children_count))"
   ],
   "metadata": {
    "collapsed": false,
    "pycharm": {
     "name": "#%%\n"
    }
   }
  },
  {
   "cell_type": "code",
   "execution_count": 11,
   "outputs": [],
   "source": [
    "def has_x_boys(outcome, **kwargs):\n",
    "    return len([child for child in outcome if child == 'Boy']) == kwargs['x']"
   ],
   "metadata": {
    "collapsed": false,
    "pycharm": {
     "name": "#%%\n"
    }
   }
  },
  {
   "cell_type": "code",
   "execution_count": 12,
   "outputs": [
    {
     "name": "stdout",
     "output_type": "stream",
     "text": [
      "Probability of 2 boys in 4 children is 0.375\n"
     ]
    }
   ],
   "source": [
    "print(f'Probability of {boys_count} boys in {children_count} children is {compute_probability(has_x_boys, sample_space, x=boys_count)}')"
   ],
   "metadata": {
    "collapsed": false,
    "pycharm": {
     "name": "#%%\n"
    }
   }
  },
  {
   "cell_type": "markdown",
   "source": [
    "Problem 2: Analyzing multiple die rolls\n",
    "Suppose we’re shown a fair six-sided die whose faces are numbered from 1 to 6. The die is rolled six times. What is the probability that these six die rolls add up to 21?"
   ],
   "metadata": {
    "collapsed": false,
    "pycharm": {
     "name": "#%% md\n"
    }
   }
  },
  {
   "cell_type": "code",
   "execution_count": 13,
   "outputs": [],
   "source": [
    "possible_rolls = list(range(1, 7))\n",
    "rolls_count = 6\n",
    "rolled_sum = 21\n",
    "sample_space = set(product(possible_rolls, repeat=rolls_count))"
   ],
   "metadata": {
    "collapsed": false,
    "pycharm": {
     "name": "#%%\n"
    }
   }
  },
  {
   "cell_type": "code",
   "execution_count": 14,
   "outputs": [],
   "source": [
    "def has_sum_of_x(outcome, **kwargs):\n",
    "    return sum(outcome) == kwargs['x']"
   ],
   "metadata": {
    "collapsed": false,
    "pycharm": {
     "name": "#%%\n"
    }
   }
  },
  {
   "cell_type": "code",
   "execution_count": 15,
   "outputs": [
    {
     "name": "stdout",
     "output_type": "stream",
     "text": [
      "Probability of 6 rolls with rolls add up to 21 is 0.09284979423868313\n"
     ]
    }
   ],
   "source": [
    "print(f'Probability of {rolls_count} rolls with rolls add up to {rolled_sum} is {compute_probability(has_sum_of_x, sample_space, x=rolled_sum)}')"
   ],
   "metadata": {
    "collapsed": false,
    "pycharm": {
     "name": "#%%\n"
    }
   }
  },
  {
   "cell_type": "markdown",
   "source": [
    "Problem 3: Computing die-roll probabilities using weighted sample spaces\n",
    "We’ve just computed the likelihood of six die rolls summing to 21. Now, let’s recompute that probability using a weighted sample space."
   ],
   "metadata": {
    "collapsed": false,
    "pycharm": {
     "name": "#%% md\n"
    }
   }
  },
  {
   "cell_type": "code",
   "execution_count": 18,
   "outputs": [],
   "source": [
    "weighted_sample_space = defaultdict(int)\n",
    "for outcome in sample_space:\n",
    "    weighted_sample_space[sum(outcome)] += 1"
   ],
   "metadata": {
    "collapsed": false,
    "pycharm": {
     "name": "#%%\n"
    }
   }
  },
  {
   "cell_type": "markdown",
   "source": [
    "Computing probabilities over interval ranges\n",
    "For instance, let’s compute the likelihood that our six consecutive die rolls sum to a value between 10 and 21 (inclusive)."
   ],
   "metadata": {
    "collapsed": false,
    "pycharm": {
     "name": "#%% md\n"
    }
   }
  },
  {
   "cell_type": "code",
   "execution_count": 23,
   "outputs": [
    {
     "name": "stdout",
     "output_type": "stream",
     "text": [
      "The probability of the 6 rolls to sum up to a value between 10 and 21 is 0.5446244855967078\n"
     ]
    }
   ],
   "source": [
    "min_sum = 10\n",
    "max_sum = 21\n",
    "print(f'The probability of the {rolls_count} rolls to sum up to a value between {min_sum} and {max_sum} is {compute_probability(lambda x: min_sum <= x <= max_sum, weighted_sample_space)}')"
   ],
   "metadata": {
    "collapsed": false,
    "pycharm": {
     "name": "#%%\n"
    }
   }
  },
  {
   "cell_type": "markdown",
   "source": [
    "Evaluating extremes using interval analysis\n",
    "For instance, suppose we observe 10 flips of an allegedly fair coin, and that coin lands on heads 8 out of 10 times. What is the probability that 10 fair coin flips produce from 8 to 10 heads?"
   ],
   "metadata": {
    "collapsed": false,
    "pycharm": {
     "name": "#%% md\n"
    }
   }
  },
  {
   "cell_type": "code",
   "execution_count": 30,
   "outputs": [],
   "source": [
    "possible_sides = ['Tail', 'Head']\n",
    "flip_count = 20\n",
    "min_head_count = 16\n",
    "weighted_sample_space = defaultdict(int)\n",
    "for outcome in set(product(possible_sides, repeat=flip_count)):\n",
    "    weighted_sample_space[len([side for side in outcome if side == 'Head'])] += 1"
   ],
   "metadata": {
    "collapsed": false,
    "pycharm": {
     "name": "#%%\n"
    }
   }
  },
  {
   "cell_type": "code",
   "execution_count": 31,
   "outputs": [
    {
     "name": "stdout",
     "output_type": "stream",
     "text": [
      "The probability of the 20 flips to end up with 16 or more heads is 0.005908966064453125\n"
     ]
    }
   ],
   "source": [
    "print(f'The probability of the {flip_count} flips to end up with {min_head_count} or more heads is {compute_probability(lambda x: min_head_count <= x, weighted_sample_space)}')"
   ],
   "metadata": {
    "collapsed": false,
    "pycharm": {
     "name": "#%%\n"
    }
   }
  },
  {
   "cell_type": "markdown",
   "source": [
    "What is the probability that 10 fair coin flips produce either 0 to 2 heads or 8 to 10 heads?"
   ],
   "metadata": {
    "collapsed": false,
    "pycharm": {
     "name": "#%% md\n"
    }
   }
  },
  {
   "cell_type": "code",
   "execution_count": null,
   "outputs": [],
   "source": [
    "print(f'The probability of the {flip_count} flips to end up with more than {min_head_count-1} heads or tails is {compute_probability(lambda x: min_head_count <= x or x <= flip_count-min_head_count, weighted_sample_space)}')"
   ],
   "metadata": {
    "collapsed": false,
    "pycharm": {
     "name": "#%%\n"
    }
   }
  }
 ],
 "metadata": {
  "kernelspec": {
   "display_name": "Python 3",
   "language": "python",
   "name": "python3"
  },
  "language_info": {
   "codemirror_mode": {
    "name": "ipython",
    "version": 2
   },
   "file_extension": ".py",
   "mimetype": "text/x-python",
   "name": "python",
   "nbconvert_exporter": "python",
   "pygments_lexer": "ipython2",
   "version": "2.7.6"
  }
 },
 "nbformat": 4,
 "nbformat_minor": 0
}