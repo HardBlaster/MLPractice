{
 "cells": [
  {
   "cell_type": "code",
   "execution_count": 4,
   "outputs": [],
   "source": [
    "import matplotlib.pyplot as plt\n",
    "\n",
    "from itertools import product\n",
    "from collections import defaultdict"
   ],
   "metadata": {
    "collapsed": false,
    "pycharm": {
     "name": "#%%\n"
    }
   }
  },
  {
   "cell_type": "code",
   "execution_count": 5,
   "outputs": [],
   "source": [
    "def generate_flip_space(flip_count, sides):\n",
    "    weighted_sample_space = defaultdict(int)\n",
    "    for outcome in product(sides, repeat=flip_count):\n",
    "        weighted_sample_space[len([side for side in outcome if side == 'Head'])] += 1\n",
    "\n",
    "    return weighted_sample_space"
   ],
   "metadata": {
    "collapsed": false,
    "pycharm": {
     "name": "#%%\n"
    }
   }
  },
  {
   "cell_type": "code",
   "execution_count": 6,
   "outputs": [
    {
     "ename": "KeyboardInterrupt",
     "evalue": "",
     "output_type": "error",
     "traceback": [
      "\u001B[1;31m---------------------------------------------------------------------------\u001B[0m",
      "\u001B[1;31mKeyboardInterrupt\u001B[0m                         Traceback (most recent call last)",
      "Input \u001B[1;32mIn [6]\u001B[0m, in \u001B[0;36m<cell line: 4>\u001B[1;34m()\u001B[0m\n\u001B[0;32m      2\u001B[0m weighted_10_flips \u001B[38;5;241m=\u001B[39m generate_flip_space(\u001B[38;5;241m10\u001B[39m, possible_sides)\n\u001B[0;32m      3\u001B[0m weighted_20_flips \u001B[38;5;241m=\u001B[39m generate_flip_space(\u001B[38;5;241m20\u001B[39m, possible_sides)\n\u001B[1;32m----> 4\u001B[0m weighted_200_flips \u001B[38;5;241m=\u001B[39m \u001B[43mgenerate_flip_space\u001B[49m\u001B[43m(\u001B[49m\u001B[38;5;241;43m200\u001B[39;49m\u001B[43m,\u001B[49m\u001B[43m \u001B[49m\u001B[43mpossible_sides\u001B[49m\u001B[43m)\u001B[49m\n",
      "Input \u001B[1;32mIn [5]\u001B[0m, in \u001B[0;36mgenerate_flip_space\u001B[1;34m(flip_count, sides)\u001B[0m\n\u001B[0;32m      2\u001B[0m weighted_sample_space \u001B[38;5;241m=\u001B[39m defaultdict(\u001B[38;5;28mint\u001B[39m)\n\u001B[0;32m      3\u001B[0m \u001B[38;5;28;01mfor\u001B[39;00m outcome \u001B[38;5;129;01min\u001B[39;00m product(sides, repeat\u001B[38;5;241m=\u001B[39mflip_count):\n\u001B[1;32m----> 4\u001B[0m     weighted_sample_space[\u001B[38;5;28mlen\u001B[39m([side \u001B[38;5;28;01mfor\u001B[39;00m side \u001B[38;5;129;01min\u001B[39;00m outcome \u001B[38;5;28;01mif\u001B[39;00m side \u001B[38;5;241m==\u001B[39m \u001B[38;5;124m'\u001B[39m\u001B[38;5;124mHead\u001B[39m\u001B[38;5;124m'\u001B[39m])] \u001B[38;5;241m+\u001B[39m\u001B[38;5;241m=\u001B[39m \u001B[38;5;241m1\u001B[39m\n\u001B[0;32m      6\u001B[0m \u001B[38;5;28;01mreturn\u001B[39;00m weighted_sample_space\n",
      "Input \u001B[1;32mIn [5]\u001B[0m, in \u001B[0;36m<listcomp>\u001B[1;34m(.0)\u001B[0m\n\u001B[0;32m      2\u001B[0m weighted_sample_space \u001B[38;5;241m=\u001B[39m defaultdict(\u001B[38;5;28mint\u001B[39m)\n\u001B[0;32m      3\u001B[0m \u001B[38;5;28;01mfor\u001B[39;00m outcome \u001B[38;5;129;01min\u001B[39;00m product(sides, repeat\u001B[38;5;241m=\u001B[39mflip_count):\n\u001B[1;32m----> 4\u001B[0m     weighted_sample_space[\u001B[38;5;28mlen\u001B[39m([side \u001B[38;5;28;01mfor\u001B[39;00m side \u001B[38;5;129;01min\u001B[39;00m outcome \u001B[38;5;28;01mif\u001B[39;00m side \u001B[38;5;241m==\u001B[39m \u001B[38;5;124m'\u001B[39m\u001B[38;5;124mHead\u001B[39m\u001B[38;5;124m'\u001B[39m])] \u001B[38;5;241m+\u001B[39m\u001B[38;5;241m=\u001B[39m \u001B[38;5;241m1\u001B[39m\n\u001B[0;32m      6\u001B[0m \u001B[38;5;28;01mreturn\u001B[39;00m weighted_sample_space\n",
      "\u001B[1;31mKeyboardInterrupt\u001B[0m: "
     ]
    }
   ],
   "source": [
    "possible_sides = ['Tail', 'Head']\n",
    "weighted_10_flips = generate_flip_space(10, possible_sides)\n",
    "weighted_20_flips = generate_flip_space(20, possible_sides)"
   ],
   "metadata": {
    "collapsed": false,
    "pycharm": {
     "name": "#%%\n"
    }
   }
  },
  {
   "cell_type": "code",
   "execution_count": null,
   "outputs": [],
   "source": [
    "x_10_flips = list(weighted_10_flips.keys())\n",
    "y_10_flips = [weighted_10_flips[key] for key in x_10_flips]\n",
    "plt.scatter(x_10_flips, y_10_flips)\n",
    "plt.xlabel('Head-count')\n",
    "plt.ylabel('Number of coin-flip combinations with x heads')\n",
    "plt.show()"
   ],
   "metadata": {
    "collapsed": false,
    "pycharm": {
     "name": "#%%\n"
    }
   }
  },
  {
   "cell_type": "code",
   "execution_count": null,
   "outputs": [],
   "source": [
    "sample_space_size = sum(weighted_10_flips.values())\n",
    "prob_x_10_flips = [value / sample_space_size for value in y_10_flips]\n",
    "plt.scatter(x_10_flips, prob_x_10_flips)\n",
    "plt.xlabel('Head-count')\n",
    "plt.ylabel('Probability')\n",
    "plt.show()"
   ],
   "metadata": {
    "collapsed": false,
    "pycharm": {
     "name": "#%%\n"
    }
   }
  },
  {
   "cell_type": "code",
   "execution_count": null,
   "outputs": [],
   "source": [
    "plt.plot(x_10_flips, prob_x_10_flips)\n",
    "plt.scatter(x_10_flips, prob_x_10_flips)\n",
    "where = [8 <= value <= 10 for value in x_10_flips]\n",
    "plt.fill_between(x_10_flips, prob_x_10_flips, where=where)\n",
    "plt.xlabel('Head-count')\n",
    "plt.ylabel('Probability')\n",
    "plt.show()"
   ],
   "metadata": {
    "collapsed": false,
    "pycharm": {
     "name": "#%%\n"
    }
   }
  },
  {
   "cell_type": "code",
   "execution_count": null,
   "outputs": [],
   "source": [
    "plt.plot(x_10_flips, prob_x_10_flips)\n",
    "plt.scatter(x_10_flips, prob_x_10_flips)\n",
    "\n",
    "where = [not 3 <= value <= 7 for value in x_10_flips]\n",
    "plt.fill_between(x_10_flips, prob_x_10_flips, where=where)\n",
    "\n",
    "plt.xlabel('Head-count')\n",
    "plt.ylabel('Probability')\n",
    "\n",
    "plt.show()"
   ],
   "metadata": {
    "collapsed": false,
    "pycharm": {
     "name": "#%%\n"
    }
   }
  },
  {
   "cell_type": "code",
   "execution_count": null,
   "outputs": [],
   "source": [
    "x_20_flips = list(weighted_20_flips.keys())\n",
    "y_20_flips = [weighted_20_flips[key] for key in x_20_flips]\n",
    "\n",
    "sample_space_size = sum(weighted_20_flips.values())\n",
    "prob_x_20_flips = [value / sample_space_size for value in y_20_flips]"
   ],
   "metadata": {
    "collapsed": false,
    "pycharm": {
     "name": "#%%\n"
    }
   }
  },
  {
   "cell_type": "code",
   "execution_count": null,
   "outputs": [],
   "source": [
    "plt.plot(x_10_flips, prob_x_10_flips, label='A: 10 coin-flips')\n",
    "plt.scatter(x_10_flips, prob_x_10_flips)\n",
    "\n",
    "plt.plot(x_20_flips, prob_x_20_flips, color='black', linestyle='--', label='B: 20 coin-flips')\n",
    "plt.scatter(x_20_flips, prob_x_20_flips, color='k', marker='x')\n",
    "\n",
    "plt.xlabel('Head-count')\n",
    "plt.ylabel('Probability')\n",
    "\n",
    "plt.legend()\n",
    "plt.show()"
   ],
   "metadata": {
    "collapsed": false,
    "pycharm": {
     "name": "#%%\n"
    }
   }
  },
  {
   "cell_type": "code",
   "execution_count": null,
   "outputs": [],
   "source": [
    "plt.figure(figsize=(20, 12))\n",
    "\n",
    "plt.plot(x_10_flips, prob_x_10_flips, label='A: 10 coin-flips')\n",
    "plt.fill_between(x_10_flips, prob_x_10_flips, where=[not 2 <= flip <= 8 for flip in x_10_flips])\n",
    "\n",
    "plt.plot(x_20_flips, prob_x_20_flips, color='k', linestyle=':', label='B: 20 coin-flips')\n",
    "plt.fill_between(x_20_flips, prob_x_20_flips, where=[not 4 <= flip <= 16 for flip in x_20_flips])\n",
    "\n",
    "plt.xlabel('Head-count')\n",
    "plt.ylabel('Probability')\n",
    "\n",
    "plt.legend()\n",
    "plt.show()"
   ],
   "metadata": {
    "collapsed": false,
    "pycharm": {
     "name": "#%%\n"
    }
   }
  },
  {
   "cell_type": "code",
   "execution_count": null,
   "outputs": [],
   "source": [
    "x_10_freq = [head_count / 10 for head_count in x_10_flips]\n",
    "x_20_freq = [head_count / 20 for head_count in x_20_flips]\n",
    "\n",
    "plt.plot(x_10_freq, prob_x_10_flips, label='A: 10 coin-flips')\n",
    "plt.plot(x_20_freq, prob_x_20_flips, color='k', linestyle=':', label='B: 20 coin-flips')\n",
    "\n",
    "plt.xlabel('Head-Frequency')\n",
    "plt.ylabel('Probability')\n",
    "\n",
    "plt.legend()\n",
    "plt.show()"
   ],
   "metadata": {
    "collapsed": false,
    "pycharm": {
     "name": "#%%\n"
    }
   }
  },
  {
   "cell_type": "code",
   "execution_count": null,
   "outputs": [],
   "source": [
    "relative_likelihood_10 = [10 * prob for prob in prob_x_10_flips]\n",
    "relative_likelihood_20 = [20 * prob for prob in prob_x_20_flips]\n",
    "\n",
    "plt.figure(figsize=(20, 12))\n",
    "\n",
    "plt.plot(x_10_freq, relative_likelihood_10, label='A: 10 coin-flips')\n",
    "plt.fill_between(x_10_freq, relative_likelihood_10, where=[not 3 <= flip <= 7 for flip in x_10_flips])\n",
    "\n",
    "plt.plot(x_20_freq, relative_likelihood_20, color='k',linestyle=':', label='B: 20 coin-flips')\n",
    "plt.fill_between(x_20_freq, relative_likelihood_20, where=[not 5 <= flip <= 15 for flip in x_20_flips])\n",
    "\n",
    "plt.xlabel('Head-Frequency')\n",
    "plt.ylabel('Relative Likelihood')\n",
    "\n",
    "plt.legend()\n",
    "plt.show()"
   ],
   "metadata": {
    "collapsed": false,
    "pycharm": {
     "name": "#%%\n"
    }
   }
  },
  {
   "cell_type": "code",
   "execution_count": null,
   "outputs": [],
   "source": [],
   "metadata": {
    "collapsed": false,
    "pycharm": {
     "name": "#%%\n"
    }
   }
  }
 ],
 "metadata": {
  "kernelspec": {
   "display_name": "Python 3",
   "language": "python",
   "name": "python3"
  },
  "language_info": {
   "codemirror_mode": {
    "name": "ipython",
    "version": 2
   },
   "file_extension": ".py",
   "mimetype": "text/x-python",
   "name": "python",
   "nbconvert_exporter": "python",
   "pygments_lexer": "ipython2",
   "version": "2.7.6"
  }
 },
 "nbformat": 4,
 "nbformat_minor": 0
}